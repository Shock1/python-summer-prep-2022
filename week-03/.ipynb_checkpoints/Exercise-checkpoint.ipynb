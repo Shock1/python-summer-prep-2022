{
 "cells": [
  {
   "cell_type": "markdown",
   "metadata": {},
   "source": [
    "## #1 Figure out how to print the current date and time. \n",
    "The solution should be in this format:  2021-08-05 11:56:30 (YYYY-MM-DD HH:MM:SS)\n",
    "\n",
    "Hint:  You're going to have to import a library"
   ]
  },
  {
   "cell_type": "code",
   "execution_count": 13,
   "metadata": {},
   "outputs": [
    {
     "name": "stdout",
     "output_type": "stream",
     "text": [
      "2022-08-15 22:06:33.175515\n"
     ]
    }
   ],
   "source": [
    "from datetime import datetime\n",
    "\n",
    "now = datetime.now()\n",
    " \n",
    "print(now)\n"
   ]
  },
  {
   "cell_type": "markdown",
   "metadata": {},
   "source": [
    "## #2 Write a function that accepts the radius of a circle and returns the area of a circle.  \n",
    "The function for the area of a circle is pi * radius squared.  "
   ]
  },
  {
   "cell_type": "code",
   "execution_count": 18,
   "metadata": {},
   "outputs": [
    {
     "name": "stdout",
     "output_type": "stream",
     "text": [
      "25.12\n"
     ]
    }
   ],
   "source": [
    "import math\n",
    "def area(radius):\n",
    "    result = 3.14 * (int(radius)^2)\n",
    "    print(result)\n",
    "\n",
    "area(10)"
   ]
  },
  {
   "cell_type": "markdown",
   "metadata": {},
   "source": [
    "## #3 Write a function that takes a list of numbers and returns True of all number in the list are unique and returns False if the list contains duplicate numbers. \n",
    "* Hint, maybe think of using a set()\n",
    "\n",
    "Input:  input_list = [2,4,5,5,7,9]\n",
    "\n",
    "Expected Output:  False"
   ]
  },
  {
   "cell_type": "code",
   "execution_count": 26,
   "metadata": {},
   "outputs": [
    {
     "data": {
      "text/plain": [
       "False"
      ]
     },
     "execution_count": 26,
     "metadata": {},
     "output_type": "execute_result"
    }
   ],
   "source": [
    "def checkDupl(list):\n",
    "    if len(list) == len(set(list)):\n",
    "        return True\n",
    "    else:\n",
    "        return False\n",
    "    \n",
    "list1 = [2,3,4,5,5]\n",
    "checkDupl(list1)"
   ]
  },
  {
   "cell_type": "markdown",
   "metadata": {},
   "source": [
    "## #4 Write a Python program to count the number of each character of a given text of a text file.\n",
    "* Use the text file called 'lil-wayne.txt' in the data folder.  \n",
    "* Convert all the characters to uppercase first, then count them.  \n",
    "* Use a dictionary in which the keys of the dictionary are the characters, and the values are the counts of that character. \n",
    "\n",
    "Expected Result:  `{'D': 74, 'W': 63, 'A': 211, 'Y': 44, 'N': 165, 'E': 274, ' ': 522, 'M': 77, 'I': 185, 'C': 60, 'H': 122, 'L': 126, 'R': 152, 'T': 180, 'J': 8, '.': 26, '(': 12, 'B': 59, 'O': 145, 'S': 152, 'P': 39, '2': 24, '7': 7, ',': 37, '1': 28, '9': 16, '8': 6, ')': 12, '[': 14, ']': 14, 'K': 13, 'F': 44, 'G': 53, 'X': 5, 'U': 66, 'V': 20, '3': 2, '4': 4, '5': 5, '6': 3, '0': 36, '\\n': 6, '-': 6, ';': 1, '!': 1, '\"': 8, \"'\": 3, '—': 1}`"
   ]
  },
  {
   "cell_type": "code",
   "execution_count": 1,
   "metadata": {},
   "outputs": [
    {
     "ename": "NameError",
     "evalue": "name 'value' is not defined",
     "output_type": "error",
     "traceback": [
      "\u001b[0;31m---------------------------------------------------------------------------\u001b[0m",
      "\u001b[0;31mNameError\u001b[0m                                 Traceback (most recent call last)",
      "\u001b[0;32m<ipython-input-1-1f79e9a731c6>\u001b[0m in \u001b[0;36m<module>\u001b[0;34m\u001b[0m\n\u001b[1;32m      9\u001b[0m   \u001b[0mcount\u001b[0m \u001b[0;34m=\u001b[0m \u001b[0mcollections\u001b[0m\u001b[0;34m.\u001b[0m\u001b[0mCounter\u001b[0m\u001b[0;34m(\u001b[0m\u001b[0mf\u001b[0m\u001b[0;34m.\u001b[0m\u001b[0mread\u001b[0m\u001b[0;34m(\u001b[0m\u001b[0;34m)\u001b[0m\u001b[0;34m.\u001b[0m\u001b[0mupper\u001b[0m\u001b[0;34m(\u001b[0m\u001b[0;34m)\u001b[0m\u001b[0;34m)\u001b[0m\u001b[0;34m\u001b[0m\u001b[0;34m\u001b[0m\u001b[0m\n\u001b[1;32m     10\u001b[0m   \u001b[0mvalue\u001b[0m \u001b[0;34m=\u001b[0m \u001b[0mpprint\u001b[0m\u001b[0;34m.\u001b[0m\u001b[0mpformat\u001b[0m\u001b[0;34m(\u001b[0m\u001b[0mcount\u001b[0m\u001b[0;34m)\u001b[0m\u001b[0;34m\u001b[0m\u001b[0;34m\u001b[0m\u001b[0m\n\u001b[0;32m---> 11\u001b[0;31m \u001b[0mprint\u001b[0m\u001b[0;34m(\u001b[0m\u001b[0mvalue\u001b[0m\u001b[0;34m)\u001b[0m\u001b[0;34m\u001b[0m\u001b[0;34m\u001b[0m\u001b[0m\n\u001b[0m",
      "\u001b[0;31mNameError\u001b[0m: name 'value' is not defined"
     ]
    }
   ],
   "source": [
    "import collections\n",
    "import pprint\n",
    "\n",
    "path_to_file = 'data/lil-wayne.txt'\n",
    "\n",
    "file_handle = open(path_to_file, 'r')\n",
    "\n",
    "def countLetters():\n",
    "  count = collections.Counter(f.read().upper())\n",
    "  value = pprint.pformat(count)\n",
    "print(value)"
   ]
  },
  {
   "cell_type": "code",
   "execution_count": null,
   "metadata": {},
   "outputs": [],
   "source": []
  },
  {
   "cell_type": "markdown",
   "metadata": {},
   "source": [
    "## #5 Using the list below...\n",
    "* Remove the fourth number from the list.\n",
    "* Take that number you just removed and multiply the last number of the list by that number. \n",
    "* Append that number to the end of the list.\n",
    "* Print the list\n",
    "\n",
    "INPUT: [1, 1, 2, 3, 5, 8, 13, 21]\n",
    "\n",
    "EXPECTED OUTPUT:  [1, 1, 2, 5, 8, 13, 21, 63]\n",
    "\n"
   ]
  },
  {
   "cell_type": "code",
   "execution_count": 39,
   "metadata": {},
   "outputs": [
    {
     "name": "stdout",
     "output_type": "stream",
     "text": [
      "[1, 1, 2, 5, 8, 13, 21, 63]\n"
     ]
    }
   ],
   "source": [
    "list1 = [1, 1, 2, 3, 5, 8, 13, 21]\n",
    "\n",
    "removeNum = list1.pop(3)\n",
    "timesLastNum = removeNum * list1[-1]\n",
    "list1.append(timesLastNum)\n",
    "\n",
    "print(list1)"
   ]
  },
  {
   "cell_type": "markdown",
   "metadata": {},
   "source": [
    "## #6 Using the list below, make a new list that contains only the numbers from the original list that are divisible by three.\n",
    "\n",
    "* Input:  original_list = [2, 3, 6, 8, 9, 15, 19, 21]\n",
    "* Expected new list:  [3, 6, 9, 15, 21]\n"
   ]
  },
  {
   "cell_type": "code",
   "execution_count": 41,
   "metadata": {},
   "outputs": [
    {
     "name": "stdout",
     "output_type": "stream",
     "text": [
      "[3, 6, 9, 15, 21]\n"
     ]
    }
   ],
   "source": [
    "original_list = [2, 3, 6, 8, 9, 15, 19, 21]\n",
    "new_list = []\n",
    "\n",
    "for num in original_list:\n",
    "    result = num%3\n",
    "    if result == 0:\n",
    "        new_list.append(num)\n",
    "    else:\n",
    "        continue\n",
    "\n",
    "print(new_list)"
   ]
  },
  {
   "cell_type": "markdown",
   "metadata": {},
   "source": [
    "## #7 Reverse the list below"
   ]
  },
  {
   "cell_type": "code",
   "execution_count": 42,
   "metadata": {},
   "outputs": [
    {
     "name": "stdout",
     "output_type": "stream",
     "text": [
      "[21, 19, 15, 9, 8, 6, 3, 2]\n"
     ]
    }
   ],
   "source": [
    "original_list = [2, 3, 6, 8, 9, 15, 19, 21]\n",
    "\n",
    "original_list.reverse()\n",
    "\n",
    "print(original_list)"
   ]
  },
  {
   "cell_type": "markdown",
   "metadata": {},
   "source": [
    "## #8 Using the list below, turn every item of the list into its square.  \n",
    "* Input original_list = [1, 2, 3, 4, 5, 6, 7]\n",
    "* Expected new_list:  [1, 4, 9, 16, 25, 36, 49]\n"
   ]
  },
  {
   "cell_type": "code",
   "execution_count": 55,
   "metadata": {},
   "outputs": [
    {
     "name": "stdout",
     "output_type": "stream",
     "text": [
      "[1, 4, 9, 16, 25, 36, 49]\n"
     ]
    }
   ],
   "source": [
    "original_list = [1, 2, 3, 4, 5, 6, 7]\n",
    "counter = 0\n",
    "\n",
    "for num in original_list:\n",
    "    original_list[counter] = num * num\n",
    "    counter += 1\n",
    "print(original_list)"
   ]
  },
  {
   "cell_type": "markdown",
   "metadata": {},
   "source": [
    "## #9  Given two Python lists. Iterate both lists simultaneously such that list1 should display item in original order and list2 in reverse order.\n",
    "Given input:\n",
    "```\n",
    "list1 = [10, 20, 30, 40]\n",
    "list2 = [100, 200, 300, 400]\n",
    "```\n",
    "\n",
    "Expected Output:\n",
    "```\n",
    "10 400\n",
    "20 300\n",
    "30 200\n",
    "40 100\n",
    "```"
   ]
  },
  {
   "cell_type": "code",
   "execution_count": 57,
   "metadata": {},
   "outputs": [
    {
     "name": "stdout",
     "output_type": "stream",
     "text": [
      "10 400\n",
      "20 300\n",
      "30 200\n",
      "40 100\n"
     ]
    }
   ],
   "source": [
    "import itertools \n",
    "\n",
    "list1 = [10, 20, 30, 40]\n",
    "list2 = [100, 200, 300, 400]\n",
    "\n",
    "list2.reverse()\n",
    "for num1, num2 in zip(list1, list2):\n",
    "    print(num1, num2)\n"
   ]
  },
  {
   "cell_type": "markdown",
   "metadata": {},
   "source": [
    "## #10 Remove empty strings from the list of strings.\n",
    "Input:  `list_of_strings = ['I', 'love', '', '', 'data', '', 'science', '!']`\n",
    "\n",
    "Expected Output:  `['I', 'love', 'data', 'science', '!']`"
   ]
  },
  {
   "cell_type": "code",
   "execution_count": 67,
   "metadata": {},
   "outputs": [
    {
     "name": "stdout",
     "output_type": "stream",
     "text": [
      "['I', 'love', 'data', '', 'science', '!']\n"
     ]
    }
   ],
   "source": [
    "list_of_strings = ['I', 'love', '', '', 'data', '', 'science', '!']\n",
    "\n",
    "for x in list_of_strings:\n",
    "    if x == '':\n",
    "        list_of_strings.remove(x)\n",
    "\n",
    "print(list_of_strings)"
   ]
  },
  {
   "cell_type": "markdown",
   "metadata": {},
   "source": [
    "##  #11 Check if the value 999 exists in the dicitionary below.  If so, print true, if not print false.\n",
    "\n",
    "Input: sample_dict = {'a': 100, 'b': 999, 'c': 300}\n",
    "\n",
    "Expected Output:  True"
   ]
  },
  {
   "cell_type": "code",
   "execution_count": 72,
   "metadata": {},
   "outputs": [
    {
     "data": {
      "text/plain": [
       "True"
      ]
     },
     "execution_count": 72,
     "metadata": {},
     "output_type": "execute_result"
    }
   ],
   "source": [
    "sample_dict = {'a': 100, 'b': 999, 'c': 300}\n",
    "\n",
    "def checkDict(number, dict1):\n",
    "    if number in dict1.values():\n",
    "        return True\n",
    "    else:\n",
    "        return False\n",
    "    \n",
    "checkDict(999,sample_dict)"
   ]
  },
  {
   "cell_type": "markdown",
   "metadata": {},
   "source": [
    "# Extra Credit"
   ]
  },
  {
   "cell_type": "markdown",
   "metadata": {},
   "source": [
    "## Using pandas, read the csv file in the data folder called `titianic.csv` and store it as a variable named `df`."
   ]
  },
  {
   "cell_type": "code",
   "execution_count": 8,
   "metadata": {},
   "outputs": [],
   "source": [
    "import pandas as pd"
   ]
  },
  {
   "cell_type": "markdown",
   "metadata": {},
   "source": [
    "## I know we didn't cover this, but figure out how to find the mean age of the age column in your dataframe. "
   ]
  },
  {
   "cell_type": "code",
   "execution_count": null,
   "metadata": {},
   "outputs": [],
   "source": []
  },
  {
   "cell_type": "markdown",
   "metadata": {},
   "source": [
    "## What was the oldest and youngest ages on the titanic?"
   ]
  },
  {
   "cell_type": "code",
   "execution_count": null,
   "metadata": {},
   "outputs": [],
   "source": []
  },
  {
   "cell_type": "markdown",
   "metadata": {},
   "source": [
    "## How many people embarked from station 'S'?"
   ]
  },
  {
   "cell_type": "code",
   "execution_count": null,
   "metadata": {},
   "outputs": [],
   "source": []
  }
 ],
 "metadata": {
  "kernelspec": {
   "display_name": "Python 3",
   "language": "python",
   "name": "python3"
  },
  "language_info": {
   "codemirror_mode": {
    "name": "ipython",
    "version": 3
   },
   "file_extension": ".py",
   "mimetype": "text/x-python",
   "name": "python",
   "nbconvert_exporter": "python",
   "pygments_lexer": "ipython3",
   "version": "3.8.8"
  }
 },
 "nbformat": 4,
 "nbformat_minor": 4
}
